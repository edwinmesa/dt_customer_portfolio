{
 "cells": [
  {
   "cell_type": "code",
   "execution_count": 1213,
   "metadata": {},
   "outputs": [],
   "source": [
    "# Import librarys python\n",
    "import pandas as pd\n",
    "import glob\n",
    "from datetime import datetime\n",
    "import numpy as np\n",
    "from pyspark import StorageLevel\n",
    "from pyspark.sql.types import StructField, DecimalType, StringType, IntegerType, DoubleType, FloatType, DateType, TimestampType\n",
    "from pyspark.sql import functions as sf, Window as w\n",
    "from pyspark.sql.functions import *\n",
    "from pyspark.sql import SparkSession"
   ]
  },
  {
   "cell_type": "code",
   "execution_count": 1214,
   "metadata": {},
   "outputs": [],
   "source": [
    "spark           = SparkSession.builder.master(\"local[*]\").appName(\"customerPortfolio\").getOrCreate()\n",
    "input_directory = '/home/pydev/workflow/dt_customer_portfolio/data/customerPortfolio.csv'\n",
    "\n",
    "df_Data = spark.read.format(\"csv\").option(\"header\", \"true\").option(\"inferSchema\", \"true\").option(\"sep\", \",\").load(input_directory)\n",
    "df_Data = df_Data.withColumn('Key_Fact', sf.concat(sf.col('cod_cia'), sf.lit('-'),sf.col('cod_co'), sf.lit('-'), sf.col('cod_doc'), sf.col('consec_doc')))\n",
    "\n",
    "# w = w.orderBy(sf.desc('Key_Fact'))\n",
    "# df_Data = df_Data.withColumn('eq', sf.col('Key_Fact') == sf.lag('Key_Fact').over(w))\n",
    "\n",
    "# df_Data.withColumn(\"lag\",lag(\"Key_Fact\",2).over(w)).show()\n",
    "# df_Data.show(10)\n",
    "# 2-1-FV2419738\n",
    "windowSpec = w.partitionBy(\"Key_Fact\").orderBy(\"Key_Fact\")\n",
    "# df_Data = df_Data.withColumn(\"lag\",lag(\"Key_Fact\").over(windowSpec))"
   ]
  },
  {
   "cell_type": "code",
   "execution_count": 1215,
   "metadata": {},
   "outputs": [
    {
     "name": "stdout",
     "output_type": "stream",
     "text": [
      "+-------------+-----------------+\n",
      "|     Key_Fact|debitos_real_dist|\n",
      "+-------------+-----------------+\n",
      "|2-1-FV2419738|          41456.5|\n",
      "+-------------+-----------------+\n",
      "\n"
     ]
    }
   ],
   "source": [
    "df_Data = df_Data.filter(df_Data.Key_Fact == '2-1-FV2419738')\n",
    "# df_Data = df_Data.select(sf.col(\"Key_Fact\"), sf.col(\"vlr_fact\"), sf.col(\"debitos_sa\"), sf.col(\"creditos_sa\"), sf.col(\"saldo\") )\n",
    "df_Data = df_Data.withColumn(\"row_number_db\",row_number().over(windowSpec))\n",
    "df_Data = df_Data.withColumn('debitos_real',  when(df_Data.row_number_db == 1, df_Data.debitos_sa).otherwise(0))\n",
    "df_Data = df_Data.withColumn('creditos_real',  when(df_Data.row_number_db == 1, df_Data.creditos_sa).otherwise(0))\n",
    "df_Data = df_Data.withColumn('saldos_real',  when(df_Data.row_number_db == 1, df_Data.saldo).otherwise(0))\n",
    "# df_Data = df_Data.withColumn('debitos_real_dist', df_Data.debitos_real/max(df_Data.row_number_db).over(windowSpec)).orderBy('Key_Fact')\n",
    "# df_Data = df_Data.drop(\"debitos_sa\", \"creditos_sa\", \"saldo\")\n",
    "\n",
    "df_Data_db = df_Data.select(sf.col(\"Key_Fact\"), sf.col(\"row_number_db\"), sf.col(\"debitos_real\"))\n",
    "df_Data_db = df_Data_db.withColumn('debitos_real_dist', df_Data.debitos_real/max(df_Data.row_number_db).over(windowSpec)).orderBy('Key_Fact')\n",
    "df_Data_db = df_Data_db.drop(\"row_number_db\", \"debitos_real\")\n",
    "df_Data_db = df_Data_db.filter(df_Data_db.debitos_real_dist !=0)\n",
    "df_Data_db.show()"
   ]
  },
  {
   "cell_type": "code",
   "execution_count": 1216,
   "metadata": {},
   "outputs": [
    {
     "name": "stdout",
     "output_type": "stream",
     "text": [
      "+---------+-------+-------------------+-------------+--------+--------------------+------------+------+-----------+-------+----------+-----------------+--------------------+--------------+----------+-----------+-------+--------+-------------+-------------+------------+-------------+-----------+\n",
      "|rowid_doc|cod_cia|          fecha_doc|rowid_tercero|     nit|        razon_social|cod_sucursal|cod_co|cod_co_mvto|cod_doc|consec_doc|  linea_preveedor|       grupo_shopper|ind_naturaleza|debitos_sa|creditos_sa|  saldo|vlr_fact|     Key_Fact|row_number_db|debitos_real|creditos_real|saldos_real|\n",
      "+---------+-------+-------------------+-------------+--------+--------------------+------------+------+-----------+-------+----------+-----------------+--------------------+--------------+----------+-----------+-------+--------+-------------+-------------+------------+-------------+-----------+\n",
      "| 27140900|      2|2023-02-10 00:00:00|        43859|71704307|FLOREZ ARENAS HER...|         001|     1|          1|    FV2|    419738|   VIÑA SAN PEDRO|               VINOS|             1|  165826.0|    79149.0|86677.0|   50461|2-1-FV2419738|            1|    165826.0|      79149.0|    86677.0|\n",
      "| 27140900|      2|2023-02-10 00:00:00|        43859|71704307|FLOREZ ARENAS HER...|         001|     1|          1|    FV2|    419738|   SANTA CAROLINA|               VINOS|             1|  165826.0|    79149.0|86677.0|   57922|2-1-FV2419738|            2|         0.0|          0.0|        0.0|\n",
      "| 27140900|      2|2023-02-10 00:00:00|        43859|71704307|FLOREZ ARENAS HER...|         001|     1|          1|    FV2|    419738|F.DIVELLA F.P.H.A|PGC DISLICORES (P...|             1|  165826.0|    79149.0|86677.0|   13449|2-1-FV2419738|            3|         0.0|          0.0|        0.0|\n",
      "| 27140900|      2|2023-02-10 00:00:00|        43859|71704307|FLOREZ ARENAS HER...|         001|     1|          1|    FV2|    419738|         MI MARCA|PGC DISLICORES (P...|             1|  165826.0|    79149.0|86677.0|   43994|2-1-FV2419738|            4|         0.0|          0.0|        0.0|\n",
      "+---------+-------+-------------------+-------------+--------+--------------------+------------+------+-----------+-------+----------+-----------------+--------------------+--------------+----------+-----------+-------+--------+-------------+-------------+------------+-------------+-----------+\n",
      "\n"
     ]
    }
   ],
   "source": [
    "df_Data.show()"
   ]
  },
  {
   "cell_type": "code",
   "execution_count": 1217,
   "metadata": {},
   "outputs": [
    {
     "name": "stdout",
     "output_type": "stream",
     "text": [
      "+---------+-------+-------------------+-------------+--------+--------------------+------------+------+-----------+-------+----------+-----------------+--------------------+--------------+----------+-----------+-------+--------+-------------+------------+-------------+-----------+-------------+-----------------+\n",
      "|rowid_doc|cod_cia|          fecha_doc|rowid_tercero|     nit|        razon_social|cod_sucursal|cod_co|cod_co_mvto|cod_doc|consec_doc|  linea_preveedor|       grupo_shopper|ind_naturaleza|debitos_sa|creditos_sa|  saldo|vlr_fact|row_number_db|debitos_real|creditos_real|saldos_real|     Key_Fact|debitos_real_dist|\n",
      "+---------+-------+-------------------+-------------+--------+--------------------+------------+------+-----------+-------+----------+-----------------+--------------------+--------------+----------+-----------+-------+--------+-------------+------------+-------------+-----------+-------------+-----------------+\n",
      "| 27140900|      2|2023-02-10 00:00:00|        43859|71704307|FLOREZ ARENAS HER...|         001|     1|          1|    FV2|    419738|         MI MARCA|PGC DISLICORES (P...|             1|  165826.0|    79149.0|86677.0|   43994|            4|         0.0|          0.0|        0.0|2-1-FV2419738|          41456.5|\n",
      "| 27140900|      2|2023-02-10 00:00:00|        43859|71704307|FLOREZ ARENAS HER...|         001|     1|          1|    FV2|    419738|F.DIVELLA F.P.H.A|PGC DISLICORES (P...|             1|  165826.0|    79149.0|86677.0|   13449|            3|         0.0|          0.0|        0.0|2-1-FV2419738|          41456.5|\n",
      "| 27140900|      2|2023-02-10 00:00:00|        43859|71704307|FLOREZ ARENAS HER...|         001|     1|          1|    FV2|    419738|   SANTA CAROLINA|               VINOS|             1|  165826.0|    79149.0|86677.0|   57922|            2|         0.0|          0.0|        0.0|2-1-FV2419738|          41456.5|\n",
      "| 27140900|      2|2023-02-10 00:00:00|        43859|71704307|FLOREZ ARENAS HER...|         001|     1|          1|    FV2|    419738|   VIÑA SAN PEDRO|               VINOS|             1|  165826.0|    79149.0|86677.0|   50461|            1|    165826.0|      79149.0|    86677.0|2-1-FV2419738|          41456.5|\n",
      "+---------+-------+-------------------+-------------+--------+--------------------+------------+------+-----------+-------+----------+-----------------+--------------------+--------------+----------+-----------+-------+--------+-------------+------------+-------------+-----------+-------------+-----------------+\n",
      "\n"
     ]
    }
   ],
   "source": [
    "df_Data_Clean   = df_Data.join(df_Data_db, df_Data.Key_Fact == df_Data_db.Key_Fact).drop(df_Data.Key_Fact)\n",
    "df_Data_Clean.show()"
   ]
  },
  {
   "cell_type": "code",
   "execution_count": 1218,
   "metadata": {},
   "outputs": [
    {
     "name": "stdout",
     "output_type": "stream",
     "text": [
      "+-------------------------+-----------------------------+------------------------------+----------------------------+\n",
      "|(sum(vlr_fact) / 1000000)|(sum(debitos_real) / 1000000)|(sum(creditos_real) / 1000000)|(sum(saldos_real) / 1000000)|\n",
      "+-------------------------+-----------------------------+------------------------------+----------------------------+\n",
      "|0.165826                 |0.165826                     |0.079149                      |0.086677                    |\n",
      "+-------------------------+-----------------------------+------------------------------+----------------------------+\n",
      "\n"
     ]
    }
   ],
   "source": [
    "df_Data.createOrReplaceTempView(\"DATA\")\n",
    "facts = spark.sql(\"SELECT SUM(vlr_fact)/1000000, SUM(debitos_real)/1000000, SUM(creditos_real)/1000000, SUM(saldos_real)/1000000 from DATA\").show(truncate=False)"
   ]
  },
  {
   "cell_type": "code",
   "execution_count": 1219,
   "metadata": {},
   "outputs": [
    {
     "name": "stdout",
     "output_type": "stream",
     "text": [
      "<class 'pyspark.sql.dataframe.DataFrame'>\n"
     ]
    }
   ],
   "source": [
    "print(type(df_Data))"
   ]
  },
  {
   "cell_type": "code",
   "execution_count": 1220,
   "metadata": {},
   "outputs": [
    {
     "name": "stdout",
     "output_type": "stream",
     "text": [
      "+---------+-------+-------------------+-------------+--------+--------------------+------------+------+-----------+-------+----------+-----------------+--------------------+--------------+----------+-----------+-------+--------+-------------+-------------+------------+-------------+-----------+\n",
      "|rowid_doc|cod_cia|          fecha_doc|rowid_tercero|     nit|        razon_social|cod_sucursal|cod_co|cod_co_mvto|cod_doc|consec_doc|  linea_preveedor|       grupo_shopper|ind_naturaleza|debitos_sa|creditos_sa|  saldo|vlr_fact|     Key_Fact|row_number_db|debitos_real|creditos_real|saldos_real|\n",
      "+---------+-------+-------------------+-------------+--------+--------------------+------------+------+-----------+-------+----------+-----------------+--------------------+--------------+----------+-----------+-------+--------+-------------+-------------+------------+-------------+-----------+\n",
      "| 27140900|      2|2023-02-10 00:00:00|        43859|71704307|FLOREZ ARENAS HER...|         001|     1|          1|    FV2|    419738|   VIÑA SAN PEDRO|               VINOS|             1|  165826.0|    79149.0|86677.0|   50461|2-1-FV2419738|            1|    165826.0|      79149.0|    86677.0|\n",
      "| 27140900|      2|2023-02-10 00:00:00|        43859|71704307|FLOREZ ARENAS HER...|         001|     1|          1|    FV2|    419738|   SANTA CAROLINA|               VINOS|             1|  165826.0|    79149.0|86677.0|   57922|2-1-FV2419738|            2|         0.0|          0.0|        0.0|\n",
      "| 27140900|      2|2023-02-10 00:00:00|        43859|71704307|FLOREZ ARENAS HER...|         001|     1|          1|    FV2|    419738|F.DIVELLA F.P.H.A|PGC DISLICORES (P...|             1|  165826.0|    79149.0|86677.0|   13449|2-1-FV2419738|            3|         0.0|          0.0|        0.0|\n",
      "| 27140900|      2|2023-02-10 00:00:00|        43859|71704307|FLOREZ ARENAS HER...|         001|     1|          1|    FV2|    419738|         MI MARCA|PGC DISLICORES (P...|             1|  165826.0|    79149.0|86677.0|   43994|2-1-FV2419738|            4|         0.0|          0.0|        0.0|\n",
      "+---------+-------+-------------------+-------------+--------+--------------------+------------+------+-----------+-------+----------+-----------------+--------------------+--------------+----------+-----------+-------+--------+-------------+-------------+------------+-------------+-----------+\n",
      "\n"
     ]
    }
   ],
   "source": [
    "# df_Data = df_Data.select(sf.col(\"Key_Fact\"), sf.col(\"vlr_fact\"), sf.col(\"debitos_sa\"), sf.col(\"creditos_sa\"), sf.col(\"saldo\") )\n",
    "# df_Data = df_Data.filter(df_Data.Key_Fact == '2-1-FV2419738')\n",
    "# windowSpec_db = w.partitionBy(\"Key_Fact\").orderBy(\"debitos_sa\")\n",
    "# windowSpec_cr = w.partitionBy(\"Key_Fact\").orderBy(\"creditos_sa\")\n",
    "# windowSpec_sa = w.partitionBy(\"Key_Fact\").orderBy(\"saldo\")\n",
    "# df_Data_temp = df_Data_temp.withColumn(\"lag\",lead(\"debitos_sa\", offset=-1, default=0).over(windowSpec))\n",
    "df_Data = df_Data.withColumn(\"row_number_db\",row_number().over(windowSpec))\n",
    "# df_Data_temp = df_Data_temp.withColumn(\"row_number_cr\",row_number().over(windowSpec_cr))\n",
    "# df_Data_temp = df_Data_temp.withColumn(\"row_number_sa\",row_number().over(windowSpec_sa))\n",
    "# df_Data = df_Data.withColumn('debitos_real',  when(df_Data.row_number_db == 1, df_Data.debitos_sa)\n",
    "#                                                         .otherwise(0))\n",
    "# df_Data = df_Data.withColumn('debitos_real_dist', df_Data.debitos_real/max(df_Data.row_number_db).over(windowSpec)).orderBy('Key_Fact')\n",
    "\n",
    "# df_Data = df_Data.withColumn(\"id\", sf.last('debitos_real_dist', True).over(w.partitionBy('Key_Fact').orderBy('debitos_sa').rowsBetween(-sys.maxsize, 0)))\n",
    "# df_Data = df_Data.drop(\"debitos_sa\", \"creditos_sa\", \"saldo\")\n",
    "# df_Data = df_Data.withColumn('debitos_realsa',  when(df_Data.debitos_sa >= 1, df_Data.debitos_real_dist)\n",
    "#                                                         .otherwise(0))\n",
    "\n",
    "df_Data.show(50)"
   ]
  },
  {
   "cell_type": "code",
   "execution_count": 1221,
   "metadata": {},
   "outputs": [],
   "source": [
    "# Sampling Datam with sql\n",
    "\n",
    "# df_Data.createOrReplaceTempView(\"DATA\")\n",
    "# temp = spark.sql(\"SELECT * FROM DATA d WHERE d.Key_Fact = '2-1-FV2419738' \").show(truncate=False)\n",
    "# facts = spark.sql(\"SELECT SUM(vlr_fact) from DATA\").show(truncate=False)"
   ]
  },
  {
   "cell_type": "code",
   "execution_count": 1222,
   "metadata": {},
   "outputs": [],
   "source": [
    "# print(type(temp))"
   ]
  },
  {
   "cell_type": "code",
   "execution_count": 1223,
   "metadata": {},
   "outputs": [
    {
     "name": "stdout",
     "output_type": "stream",
     "text": [
      "(4, 23)\n"
     ]
    }
   ],
   "source": [
    "print((df_Data.count(), len(df_Data.columns)))"
   ]
  },
  {
   "cell_type": "code",
   "execution_count": 1224,
   "metadata": {},
   "outputs": [
    {
     "name": "stdout",
     "output_type": "stream",
     "text": [
      "+-------------+\n",
      "|sum(vlr_fact)|\n",
      "+-------------+\n",
      "|       165826|\n",
      "+-------------+\n",
      "\n"
     ]
    }
   ],
   "source": [
    "df_Data.select(sum(df_Data.vlr_fact)).show()"
   ]
  },
  {
   "cell_type": "code",
   "execution_count": 1225,
   "metadata": {},
   "outputs": [],
   "source": [
    "# Select the columns and remove the duplicates\n",
    "# dropDisDF = df_Data.select(sf.col(\"debitos_sa\").alias(\"debitos_sa_2\"),\n",
    "#                            sf.col(\"creditos_sa\").alias(\"creditos_sa_2\"),sf.col(\"saldo\").alias(\"saldo_2\"), sf.col(\"Key_Fact\"))\n",
    "# dropDisDF = dropDisDF.distinct()\n",
    "# Join Data\n",
    "\n",
    "# df_Data_Clean   = df_Data.join(dropDisDF, df_Data.Key_Fact == dropDisDF.Key_Fact, how=\"inner\").drop(df_Data.Key_Fact)\n",
    "# print((dropDisDF.count(), len(dropDisDF.columns)))\n",
    "# dropDisDF = dropDisDF.distinct()"
   ]
  },
  {
   "cell_type": "code",
   "execution_count": 1226,
   "metadata": {},
   "outputs": [
    {
     "name": "stdout",
     "output_type": "stream",
     "text": [
      "+--------------------+\n",
      "|   sum(debitos_sa_2)|\n",
      "+--------------------+\n",
      "|1.366554661257399...|\n",
      "+--------------------+\n",
      "\n"
     ]
    }
   ],
   "source": [
    "# dropDisDF.select(sum(dropDisDF.vlr_fact_2)).show()\n",
    "dropDisDF.select(sum(dropDisDF.debitos_sa_2)).show()"
   ]
  },
  {
   "cell_type": "code",
   "execution_count": 1227,
   "metadata": {},
   "outputs": [
    {
     "name": "stdout",
     "output_type": "stream",
     "text": [
      "+------------+-------------+------------+--------------+\n",
      "|debitos_sa_2|creditos_sa_2|     saldo_2|      Key_Fact|\n",
      "+------------+-------------+------------+--------------+\n",
      "|    273634.0|          0.0|    273634.0| 2-3-FV2163855|\n",
      "|   1108268.0|    1098061.0|     10207.0| 2-3-FV2235835|\n",
      "|    515704.0|     509097.0|      6607.0| 2-3-FV2239984|\n",
      "|    824433.0|     804045.0|     20388.0|  2-9-FV272656|\n",
      "|    756496.0|     754126.0|      2370.0|  2-9-FV278686|\n",
      "|    756496.0|     754126.0|      2370.0| 2-14-FV233557|\n",
      "|   1217720.0|    1205041.0|     12679.0| 2-14-FV233977|\n",
      "|         0.0|      57800.0|    -57800.0|   2-276-NV212|\n",
      "|   9413304.0|    9379584.0|     33720.0| 2-3-FV2315538|\n",
      "|  1.660255E7|  1.5814754E7|    787796.0|2-10-FV2106647|\n",
      "| 1.2157872E7|  1.2155136E7|      2736.0|  2-5-FV289711|\n",
      "|   7676098.0|     160742.0|   7515356.0| 2-14-FV241592|\n",
      "|   1407578.0|          0.0|   1407578.0| 2-1-FV2397124|\n",
      "|    886796.0|     855493.0|     31303.0|  2-4-FV274217|\n",
      "|   8960725.0|          0.0|   8960725.0| 2-12-FV218277|\n",
      "| 1.6019003E7|     334999.0| 1.5684004E7| 2-5-FV2100438|\n",
      "|         0.0|  3.3956656E7|-3.3956656E7|  2-3-NV240886|\n",
      "|   3265467.0|          0.0|   3265467.0| 2-3-FV2356509|\n",
      "|   2564061.0|          0.0|   2564061.0| 2-5-FV2103836|\n",
      "|   1179329.0|          0.0|   1179329.0|  2-6-FV293609|\n",
      "+------------+-------------+------------+--------------+\n",
      "only showing top 20 rows\n",
      "\n"
     ]
    }
   ],
   "source": [
    "dropDisDF.show()"
   ]
  },
  {
   "cell_type": "code",
   "execution_count": 1228,
   "metadata": {},
   "outputs": [
    {
     "name": "stdout",
     "output_type": "stream",
     "text": [
      "(41470, 4)\n"
     ]
    }
   ],
   "source": [
    "print((dropDisDF.count(), len(dropDisDF.columns)))"
   ]
  },
  {
   "cell_type": "code",
   "execution_count": 1229,
   "metadata": {},
   "outputs": [],
   "source": [
    "# print((dropDisDF.count(), len(dropDisDF.columns)))\n",
    "# print((df_Data_Clean.count(), len(df_Data_Clean.columns)))"
   ]
  },
  {
   "cell_type": "code",
   "execution_count": 1230,
   "metadata": {},
   "outputs": [],
   "source": [
    "# df_Data_Clean.show(50)"
   ]
  },
  {
   "cell_type": "code",
   "execution_count": null,
   "metadata": {},
   "outputs": [],
   "source": []
  },
  {
   "cell_type": "code",
   "execution_count": null,
   "metadata": {},
   "outputs": [],
   "source": []
  },
  {
   "cell_type": "code",
   "execution_count": 1231,
   "metadata": {},
   "outputs": [],
   "source": [
    "# df_Data.printSchema()"
   ]
  },
  {
   "cell_type": "code",
   "execution_count": null,
   "metadata": {},
   "outputs": [],
   "source": []
  },
  {
   "cell_type": "code",
   "execution_count": null,
   "metadata": {},
   "outputs": [],
   "source": []
  },
  {
   "cell_type": "code",
   "execution_count": 1232,
   "metadata": {},
   "outputs": [
    {
     "name": "stdout",
     "output_type": "stream",
     "text": [
      "+---------+-------+-------------------+-------------+--------+--------------------+------------+------+-----------+-------+----------+-----------------+--------------------+--------------+----------+-----------+-------+--------+-------------+-------------+------------+-------------+-----------+\n",
      "|rowid_doc|cod_cia|          fecha_doc|rowid_tercero|     nit|        razon_social|cod_sucursal|cod_co|cod_co_mvto|cod_doc|consec_doc|  linea_preveedor|       grupo_shopper|ind_naturaleza|debitos_sa|creditos_sa|  saldo|vlr_fact|     Key_Fact|row_number_db|debitos_real|creditos_real|saldos_real|\n",
      "+---------+-------+-------------------+-------------+--------+--------------------+------------+------+-----------+-------+----------+-----------------+--------------------+--------------+----------+-----------+-------+--------+-------------+-------------+------------+-------------+-----------+\n",
      "| 27140900|      2|2023-02-10 00:00:00|        43859|71704307|FLOREZ ARENAS HER...|         001|     1|          1|    FV2|    419738|   VIÑA SAN PEDRO|               VINOS|             1|  165826.0|    79149.0|86677.0|   50461|2-1-FV2419738|            1|    165826.0|      79149.0|    86677.0|\n",
      "| 27140900|      2|2023-02-10 00:00:00|        43859|71704307|FLOREZ ARENAS HER...|         001|     1|          1|    FV2|    419738|   SANTA CAROLINA|               VINOS|             1|  165826.0|    79149.0|86677.0|   57922|2-1-FV2419738|            2|         0.0|          0.0|        0.0|\n",
      "| 27140900|      2|2023-02-10 00:00:00|        43859|71704307|FLOREZ ARENAS HER...|         001|     1|          1|    FV2|    419738|F.DIVELLA F.P.H.A|PGC DISLICORES (P...|             1|  165826.0|    79149.0|86677.0|   13449|2-1-FV2419738|            3|         0.0|          0.0|        0.0|\n",
      "| 27140900|      2|2023-02-10 00:00:00|        43859|71704307|FLOREZ ARENAS HER...|         001|     1|          1|    FV2|    419738|         MI MARCA|PGC DISLICORES (P...|             1|  165826.0|    79149.0|86677.0|   43994|2-1-FV2419738|            4|         0.0|          0.0|        0.0|\n",
      "+---------+-------+-------------------+-------------+--------+--------------------+------------+------+-----------+-------+----------+-----------------+--------------------+--------------+----------+-----------+-------+--------+-------------+-------------+------------+-------------+-----------+\n",
      "\n"
     ]
    }
   ],
   "source": [
    "df_Data.show()"
   ]
  },
  {
   "cell_type": "code",
   "execution_count": null,
   "metadata": {},
   "outputs": [],
   "source": []
  }
 ],
 "metadata": {
  "kernelspec": {
   "display_name": "venvdt",
   "language": "python",
   "name": "python3"
  },
  "language_info": {
   "codemirror_mode": {
    "name": "ipython",
    "version": 3
   },
   "file_extension": ".py",
   "mimetype": "text/x-python",
   "name": "python",
   "nbconvert_exporter": "python",
   "pygments_lexer": "ipython3",
   "version": "3.8.10"
  },
  "orig_nbformat": 4
 },
 "nbformat": 4,
 "nbformat_minor": 2
}
